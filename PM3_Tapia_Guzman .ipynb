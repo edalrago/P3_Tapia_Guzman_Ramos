{
 "cells": [
  {
   "cell_type": "markdown",
   "metadata": {},
   "source": [
    "# Tanques\n",
    "\n",
    "\n",
    "Se tiene un tanque de capacidad maxima de $1200 l$. Inicialmente se disuelven $85 kg$ de sal en $500 l$ de agua. En un momento determinado se comienza a introducir al tanque una salmuera cuya concentracion es de $0.05 kg/l$. El contenido total se mezcla instantanemente y sale a razón de $3 l/min$\n",
    "\n",
    "###  Objetivos.\n",
    "\n",
    "####  Objetivo general.\n",
    "Resolver un problema de aplicación de ecuaciones diferenciales mediante la utilización de métodos numéricos y python\n",
    "####  Objetivo especifico\n",
    "Ver como se comporta el fenomeno a estudiar en diferentes instantes del tiempo\n",
    "\n",
    "\n",
    "### Modelo que representa el problema.\n",
    "# $dA/dt = ri*Ci - ro A/V $\n",
    "Primeramente se calculara la solucion de la ecuacion con un tiempo de 30 minutos una vez que se inicia el proceso\n",
    "\n",
    "Después se verá el comportamiento del fenomeno despues de 60, 90 y 120 minutos. Finalemte a los 1000 minutos para poder tener una idea del comportamiento a largo plazo\n",
    "\n",
    "\n",
    "\n"
   ]
  },
  {
   "cell_type": "markdown",
   "metadata": {},
   "source": [
    "\n",
    "### 1.4 Simulaciones.\n",
    "\n"
   ]
  },
  {
   "cell_type": "code",
   "execution_count": 1,
   "metadata": {},
   "outputs": [],
   "source": [
    "import numpy as np\n",
    "from scipy.integrate import odeint\n",
    "import matplotlib.pyplot as plt\n",
    "%matplotlib inline"
   ]
  },
  {
   "cell_type": "code",
   "execution_count": 2,
   "metadata": {},
   "outputs": [
    {
     "data": {
      "text/plain": [
       "array([[85.        ],\n",
       "       [84.89100815],\n",
       "       [84.7822143 ],\n",
       "       [84.6736181 ],\n",
       "       [84.56521914],\n",
       "       [84.45701723],\n",
       "       [84.34901196],\n",
       "       [84.24120295],\n",
       "       [84.13358983],\n",
       "       [84.02617222],\n",
       "       [83.91894973],\n",
       "       [83.81192199],\n",
       "       [83.70508863],\n",
       "       [83.59844926],\n",
       "       [83.4920035 ],\n",
       "       [83.38575103],\n",
       "       [83.27969156],\n",
       "       [83.17382476],\n",
       "       [83.06815026],\n",
       "       [82.96266774],\n",
       "       [82.85737682],\n",
       "       [82.75227717],\n",
       "       [82.64736843],\n",
       "       [82.54265026],\n",
       "       [82.43812232],\n",
       "       [82.33378427],\n",
       "       [82.22963575],\n",
       "       [82.12567643],\n",
       "       [82.02190595],\n",
       "       [81.91832398],\n",
       "       [81.81493016],\n",
       "       [81.71172416],\n",
       "       [81.60870561],\n",
       "       [81.50587421],\n",
       "       [81.40322962],\n",
       "       [81.30077148],\n",
       "       [81.19849947],\n",
       "       [81.09641324],\n",
       "       [80.99451245],\n",
       "       [80.89279676],\n",
       "       [80.79126583],\n",
       "       [80.68991943],\n",
       "       [80.588757  ],\n",
       "       [80.48777834],\n",
       "       [80.38698314],\n",
       "       [80.28637104],\n",
       "       [80.18594172],\n",
       "       [80.08569482],\n",
       "       [79.98563003],\n",
       "       [79.88574699],\n",
       "       [79.78604539],\n",
       "       [79.6865249 ],\n",
       "       [79.5871852 ],\n",
       "       [79.48802595],\n",
       "       [79.38904683],\n",
       "       [79.2902475 ],\n",
       "       [79.19162764],\n",
       "       [79.09318693],\n",
       "       [78.99492503],\n",
       "       [78.89684163],\n",
       "       [78.7989364 ],\n",
       "       [78.70120901],\n",
       "       [78.60365914],\n",
       "       [78.50628648],\n",
       "       [78.4090907 ],\n",
       "       [78.31207148],\n",
       "       [78.2152285 ],\n",
       "       [78.11856144],\n",
       "       [78.02206998],\n",
       "       [77.92575379],\n",
       "       [77.82961256],\n",
       "       [77.73364596],\n",
       "       [77.63785369],\n",
       "       [77.54223542],\n",
       "       [77.44679084],\n",
       "       [77.35151964],\n",
       "       [77.2564215 ],\n",
       "       [77.16149611],\n",
       "       [77.06674315],\n",
       "       [76.97216232],\n",
       "       [76.8777533 ],\n",
       "       [76.78351578],\n",
       "       [76.68944946],\n",
       "       [76.59555401],\n",
       "       [76.50182914],\n",
       "       [76.40827453],\n",
       "       [76.31488986],\n",
       "       [76.22167482],\n",
       "       [76.12862912],\n",
       "       [76.03575243],\n",
       "       [75.94304446],\n",
       "       [75.85050489],\n",
       "       [75.75813342],\n",
       "       [75.66592975],\n",
       "       [75.57389357],\n",
       "       [75.48202457],\n",
       "       [75.39032246],\n",
       "       [75.29878693],\n",
       "       [75.20741767],\n",
       "       [75.1162144 ]])"
      ]
     },
     "execution_count": 2,
     "metadata": {},
     "output_type": "execute_result"
    }
   ],
   "source": [
    "A0 = 85\n",
    "ri = 3\n",
    "Ci = 0.05\n",
    "V = 500\n",
    "ro = 3\n",
    "\n",
    "def func(A,t):\n",
    "    A1 = A[0]\n",
    "    dA = ri * Ci -ro*(A/V)\n",
    "    return dA\n",
    "t = np.linspace(0, 30, 100)\n",
    "\n",
    "x = odeint(func,A0,t)\n",
    "x"
   ]
  },
  {
   "cell_type": "code",
   "execution_count": 3,
   "metadata": {},
   "outputs": [
    {
     "data": {
      "text/plain": [
       "array([[85.        ],\n",
       "       [84.782214  ],\n",
       "       [84.56521856],\n",
       "       [84.34901093],\n",
       "       [84.13358793],\n",
       "       [83.91894777],\n",
       "       [83.705087  ],\n",
       "       [83.49200233],\n",
       "       [83.27969055],\n",
       "       [83.06814928],\n",
       "       [82.85737587],\n",
       "       [82.64736751],\n",
       "       [82.43812141],\n",
       "       [82.22963483],\n",
       "       [82.02190502],\n",
       "       [81.81492922],\n",
       "       [81.60870473],\n",
       "       [81.40322869],\n",
       "       [81.19849853],\n",
       "       [80.99451149],\n",
       "       [80.79126486],\n",
       "       [80.58875596],\n",
       "       [80.38698212],\n",
       "       [80.18594067],\n",
       "       [79.98562894],\n",
       "       [79.78604429],\n",
       "       [79.58718407],\n",
       "       [79.38904568],\n",
       "       [79.19162649],\n",
       "       [78.99492387],\n",
       "       [78.79893521],\n",
       "       [78.60365793],\n",
       "       [78.40908946],\n",
       "       [78.21522722],\n",
       "       [78.02206867],\n",
       "       [77.82961125],\n",
       "       [77.63785244],\n",
       "       [77.44678966],\n",
       "       [77.2564204 ],\n",
       "       [77.06674212],\n",
       "       [76.87775234],\n",
       "       [76.68944854],\n",
       "       [76.50182824],\n",
       "       [76.31488895],\n",
       "       [76.12862822],\n",
       "       [75.94304356],\n",
       "       [75.75813254],\n",
       "       [75.57389269],\n",
       "       [75.39032159],\n",
       "       [75.2074168 ],\n",
       "       [75.02517592],\n",
       "       [74.84359653],\n",
       "       [74.66267624],\n",
       "       [74.48241264],\n",
       "       [74.30280335],\n",
       "       [74.123846  ],\n",
       "       [73.94553822],\n",
       "       [73.76787765],\n",
       "       [73.59086195],\n",
       "       [73.41448878],\n",
       "       [73.2387558 ],\n",
       "       [73.06366067],\n",
       "       [72.88920108],\n",
       "       [72.71537473],\n",
       "       [72.54217932],\n",
       "       [72.36961255],\n",
       "       [72.19767215],\n",
       "       [72.02635585],\n",
       "       [71.85566137],\n",
       "       [71.68558646],\n",
       "       [71.51612888],\n",
       "       [71.34728638],\n",
       "       [71.17905674],\n",
       "       [71.01143773],\n",
       "       [70.84442713],\n",
       "       [70.67802275],\n",
       "       [70.51222238],\n",
       "       [70.34702383],\n",
       "       [70.18242493],\n",
       "       [70.01842348],\n",
       "       [69.85501734],\n",
       "       [69.69220434],\n",
       "       [69.52998233],\n",
       "       [69.36834917],\n",
       "       [69.20730271],\n",
       "       [69.04684083],\n",
       "       [68.88696139],\n",
       "       [68.7276623 ],\n",
       "       [68.56894143],\n",
       "       [68.41079669],\n",
       "       [68.25322599],\n",
       "       [68.09622725],\n",
       "       [67.93979839],\n",
       "       [67.78393733],\n",
       "       [67.62864203],\n",
       "       [67.47391041],\n",
       "       [67.31974044],\n",
       "       [67.16613008],\n",
       "       [67.01307729],\n",
       "       [66.86058004]])"
      ]
     },
     "execution_count": 3,
     "metadata": {},
     "output_type": "execute_result"
    }
   ],
   "source": [
    "A0 = 85\n",
    "ri = 3\n",
    "Ci = 0.05\n",
    "V = 500\n",
    "ro = 3\n",
    "\n",
    "def func(A,t):\n",
    "    A1 = A[0]\n",
    "    dA = ri * Ci -ro*(A/V)\n",
    "    return dA\n",
    "t = np.linspace(0, 60, 100)\n",
    "\n",
    "z = odeint(func,A0,t)\n",
    "\n",
    "z"
   ]
  },
  {
   "cell_type": "code",
   "execution_count": 4,
   "metadata": {},
   "outputs": [
    {
     "data": {
      "text/plain": [
       "array([[85.        ],\n",
       "       [84.67361771],\n",
       "       [84.34901094],\n",
       "       [84.02617015],\n",
       "       [83.70508693],\n",
       "       [83.38574997],\n",
       "       [83.06814925],\n",
       "       [82.7522762 ],\n",
       "       [82.43812137],\n",
       "       [82.12567547],\n",
       "       [81.81492919],\n",
       "       [81.50587327],\n",
       "       [81.19849849],\n",
       "       [80.89279575],\n",
       "       [80.58875592],\n",
       "       [80.28636998],\n",
       "       [79.98562891],\n",
       "       [79.68652375],\n",
       "       [79.38904564],\n",
       "       [79.09318573],\n",
       "       [78.79893517],\n",
       "       [78.50628522],\n",
       "       [78.21522719],\n",
       "       [77.92575244],\n",
       "       [77.63785241],\n",
       "       [77.35151847],\n",
       "       [77.06674209],\n",
       "       [76.78351481],\n",
       "       [76.50182821],\n",
       "       [76.22167389],\n",
       "       [75.94304354],\n",
       "       [75.66592884],\n",
       "       [75.39032156],\n",
       "       [75.1162135 ],\n",
       "       [74.84359652],\n",
       "       [74.57246247],\n",
       "       [74.30280332],\n",
       "       [74.03461103],\n",
       "       [73.76787762],\n",
       "       [73.50259517],\n",
       "       [73.23875577],\n",
       "       [72.97635155],\n",
       "       [72.7153747 ],\n",
       "       [72.45581747],\n",
       "       [72.19767212],\n",
       "       [71.94093098],\n",
       "       [71.68558642],\n",
       "       [71.43163085],\n",
       "       [71.1790567 ],\n",
       "       [70.92785648],\n",
       "       [70.67802272],\n",
       "       [70.42954799],\n",
       "       [70.1824249 ],\n",
       "       [69.93664611],\n",
       "       [69.69220432],\n",
       "       [69.44909226],\n",
       "       [69.2073027 ],\n",
       "       [68.96682843],\n",
       "       [68.72766229],\n",
       "       [68.48979717],\n",
       "       [68.25322599],\n",
       "       [68.01794172],\n",
       "       [67.78393734],\n",
       "       [67.55120589],\n",
       "       [67.31974045],\n",
       "       [67.08953412],\n",
       "       [66.86058004],\n",
       "       [66.6328714 ],\n",
       "       [66.40640141],\n",
       "       [66.18116332],\n",
       "       [65.9571504 ],\n",
       "       [65.73435599],\n",
       "       [65.51277346],\n",
       "       [65.29239625],\n",
       "       [65.07321781],\n",
       "       [64.85523162],\n",
       "       [64.6384312 ],\n",
       "       [64.4228101 ],\n",
       "       [64.20836191],\n",
       "       [63.99508025],\n",
       "       [63.78295878],\n",
       "       [63.57199119],\n",
       "       [63.36217122],\n",
       "       [63.15349263],\n",
       "       [62.94594921],\n",
       "       [62.73953477],\n",
       "       [62.53424317],\n",
       "       [62.3300683 ],\n",
       "       [62.12700409],\n",
       "       [61.92504449],\n",
       "       [61.72418349],\n",
       "       [61.52441511],\n",
       "       [61.32573342],\n",
       "       [61.12813249],\n",
       "       [60.93160644],\n",
       "       [60.73614943],\n",
       "       [60.54175563],\n",
       "       [60.34841927],\n",
       "       [60.1561346 ],\n",
       "       [59.9648959 ]])"
      ]
     },
     "execution_count": 4,
     "metadata": {},
     "output_type": "execute_result"
    }
   ],
   "source": [
    "A0 = 85\n",
    "ri = 3\n",
    "Ci = 0.05\n",
    "V = 500\n",
    "ro = 3\n",
    "\n",
    "def func(A,t):\n",
    "    A1 = A[0]\n",
    "    dA = ri * Ci -ro*(A/V)\n",
    "    return dA\n",
    "t = np.linspace(0, 90, 100)\n",
    "\n",
    "y = odeint(func,A0,t)\n",
    "\n",
    "y"
   ]
  },
  {
   "cell_type": "code",
   "execution_count": 5,
   "metadata": {},
   "outputs": [
    {
     "data": {
      "text/plain": [
       "array([[85.        ],\n",
       "       [84.56521854],\n",
       "       [84.13358786],\n",
       "       [83.70508691],\n",
       "       [83.27969051],\n",
       "       [82.85737582],\n",
       "       [82.43812136],\n",
       "       [82.02190498],\n",
       "       [81.60870468],\n",
       "       [81.19849848],\n",
       "       [80.79126481],\n",
       "       [80.38698208],\n",
       "       [79.9856289 ],\n",
       "       [79.58718403],\n",
       "       [79.19162644],\n",
       "       [78.79893517],\n",
       "       [78.40908941],\n",
       "       [78.02206863],\n",
       "       [77.6378524 ],\n",
       "       [77.25642036],\n",
       "       [76.8777523 ],\n",
       "       [76.5018282 ],\n",
       "       [76.12862818],\n",
       "       [75.7581325 ],\n",
       "       [75.39032155],\n",
       "       [75.02517589],\n",
       "       [74.66267621],\n",
       "       [74.30280331],\n",
       "       [73.94553818],\n",
       "       [73.59086192],\n",
       "       [73.23875576],\n",
       "       [72.88920105],\n",
       "       [72.54217928],\n",
       "       [72.19767211],\n",
       "       [71.85566132],\n",
       "       [71.51612883],\n",
       "       [71.1790567 ],\n",
       "       [70.84442709],\n",
       "       [70.51222235],\n",
       "       [70.18242489],\n",
       "       [69.85501732],\n",
       "       [69.52998231],\n",
       "       [69.2073027 ],\n",
       "       [68.88696139],\n",
       "       [68.56894143],\n",
       "       [68.25322599],\n",
       "       [67.93979839],\n",
       "       [67.62864203],\n",
       "       [67.31974045],\n",
       "       [67.01307729],\n",
       "       [66.70863632],\n",
       "       [66.40640141],\n",
       "       [66.10635654],\n",
       "       [65.80848581],\n",
       "       [65.51277345],\n",
       "       [65.21920389],\n",
       "       [64.92776161],\n",
       "       [64.63843119],\n",
       "       [64.35119735],\n",
       "       [64.0660449 ],\n",
       "       [63.78295877],\n",
       "       [63.50192399],\n",
       "       [63.22292572],\n",
       "       [62.9459492 ],\n",
       "       [62.67097978],\n",
       "       [62.39800288],\n",
       "       [62.12700408],\n",
       "       [61.85796905],\n",
       "       [61.59088353],\n",
       "       [61.32573342],\n",
       "       [61.06250466],\n",
       "       [60.80118334],\n",
       "       [60.54175562],\n",
       "       [60.2842078 ],\n",
       "       [60.02852626],\n",
       "       [59.77469748],\n",
       "       [59.52270803],\n",
       "       [59.27254458],\n",
       "       [59.0241939 ],\n",
       "       [58.77764286],\n",
       "       [58.53287841],\n",
       "       [58.28988761],\n",
       "       [58.0486576 ],\n",
       "       [57.80917563],\n",
       "       [57.57142902],\n",
       "       [57.33540522],\n",
       "       [57.10109173],\n",
       "       [56.86847615],\n",
       "       [56.63754618],\n",
       "       [56.40828962],\n",
       "       [56.18069432],\n",
       "       [55.95474825],\n",
       "       [55.73043947],\n",
       "       [55.50775611],\n",
       "       [55.28668639],\n",
       "       [55.06721862],\n",
       "       [54.84934119],\n",
       "       [54.63304258],\n",
       "       [54.41831133],\n",
       "       [54.20513611]])"
      ]
     },
     "execution_count": 5,
     "metadata": {},
     "output_type": "execute_result"
    }
   ],
   "source": [
    "A0 = 85\n",
    "ri = 3\n",
    "Ci = 0.05\n",
    "V = 500\n",
    "ro = 3\n",
    "\n",
    "def func(A,t):\n",
    "    A1 = A[0]\n",
    "    dA = ri * Ci -ro*(A/V)\n",
    "    return dA\n",
    "t = np.linspace(0, 120, 100)\n",
    "\n",
    "w = odeint(func,A0,t)\n",
    "\n",
    "w"
   ]
  },
  {
   "cell_type": "markdown",
   "metadata": {},
   "source": [
    "### Visualización de resultados de simulación.\n"
   ]
  },
  {
   "cell_type": "code",
   "execution_count": 6,
   "metadata": {},
   "outputs": [
    {
     "data": {
      "image/png": "[encoded data removed]",
      "text/plain": [
       "<Figure size 576x432 with 1 Axes>"
      ]
     },
     "metadata": {
      "needs_background": "light"
     },
     "output_type": "display_data"
    }
   ],
   "source": [
    "plt.figure(figsize=(8,6))\n",
    "plt.plot(t, x)\n",
    "plt.grid()\n",
    "plt.xlabel('t')\n",
    "plt.ylabel('Soluto')\n",
    "plt.show()"
   ]
  },
  {
   "cell_type": "code",
   "execution_count": 7,
   "metadata": {},
   "outputs": [
    {
     "data": {
      "image/png": "[encoded data removed]",
      "text/plain": [
       "<Figure size 576x432 with 1 Axes>"
      ]
     },
     "metadata": {
      "needs_background": "light"
     },
     "output_type": "display_data"
    }
   ],
   "source": [
    "plt.figure(figsize=(8,6))\n",
    "plt.plot(t, z)\n",
    "plt.grid()\n",
    "plt.xlabel('t')\n",
    "plt.ylabel('Soluto')\n",
    "plt.show()"
   ]
  },
  {
   "cell_type": "code",
   "execution_count": 8,
   "metadata": {},
   "outputs": [
    {
     "data": {
      "image/png": "[encoded data removed]",
      "text/plain": [
       "<Figure size 576x432 with 1 Axes>"
      ]
     },
     "metadata": {
      "needs_background": "light"
     },
     "output_type": "display_data"
    }
   ],
   "source": [
    "plt.figure(figsize=(8,6))\n",
    "plt.plot(t, y)\n",
    "plt.grid()\n",
    "plt.xlabel('t')\n",
    "plt.ylabel('Soluto')\n",
    "plt.show()\n"
   ]
  },
  {
   "cell_type": "code",
   "execution_count": 9,
   "metadata": {},
   "outputs": [
    {
     "data": {
      "image/png": "[encoded data removed]",
      "text/plain": [
       "<Figure size 576x432 with 1 Axes>"
      ]
     },
     "metadata": {
      "needs_background": "light"
     },
     "output_type": "display_data"
    }
   ],
   "source": [
    "plt.figure(figsize=(8,6))\n",
    "plt.plot(t, w)\n",
    "plt.grid()\n",
    "plt.xlabel('t')\n",
    "plt.ylabel('Soluto')\n",
    "plt.show()\n"
   ]
  },
  {
   "cell_type": "code",
   "execution_count": 10,
   "metadata": {},
   "outputs": [
    {
     "data": {
      "image/png": "[encoded data removed]",
      "text/plain": [
       "<Figure size 576x432 with 1 Axes>"
      ]
     },
     "metadata": {
      "needs_background": "light"
     },
     "output_type": "display_data"
    }
   ],
   "source": [
    "A0 = 85\n",
    "ri = 3\n",
    "Ci = 0.05\n",
    "V = 500\n",
    "ro = 3\n",
    "\n",
    "def func(A,t):\n",
    "    A1 = A[0]\n",
    "    dA = ri * Ci -ro*(A/V)\n",
    "    return dA\n",
    "t = np.linspace(0, 1000, 100)\n",
    "\n",
    "m = odeint(func,A0,t)\n",
    "\n",
    "m\n",
    "\n",
    "plt.figure(figsize=(8,6))\n",
    "plt.plot(t, m)\n",
    "plt.grid()\n",
    "plt.xlabel('t')\n",
    "plt.ylabel('Soluto')\n",
    "plt.show()"
   ]
  },
  {
   "cell_type": "code",
   "execution_count": 11,
   "metadata": {},
   "outputs": [
    {
     "data": {
      "image/png": "[encoded data removed]",
      "text/plain": [
       "<Figure size 576x432 with 1 Axes>"
      ]
     },
     "metadata": {
      "needs_background": "light"
     },
     "output_type": "display_data"
    }
   ],
   "source": [
    "plt.figure(figsize=(8,6))\n",
    "plt.plot(t, m)\n",
    "plt.plot(t, w)\n",
    "plt.plot(t, y)\n",
    "plt.plot(t, z)\n",
    "plt.plot(t, x)\n",
    "plt.grid()\n",
    "plt.show()"
   ]
  },
  {
   "cell_type": "markdown",
   "metadata": {},
   "source": [
    "\n",
    "\n",
    "### Conclusiones.\n",
    "Resolviendo de manera analitica la función con métodos aprendidos en la clase de ecueciones diferenciales nos es posible saber exactamente como se comportara el fenómeno a largo plazo.\n",
    "\n",
    "Tendra una concentración final de 0.05 kg/l, lo cual tiene sentido ya que es igual a la concentracion que entra al tanque. \n",
    "###  Referencias.\n",
    "\n"
   ]
  },
  {
   "cell_type": "markdown",
   "metadata": {},
   "source": [
    "<script>\n",
    "  $(document).ready(function(){\n",
    "    $('div.prompt').hide();\n",
    "    $('div.back-to-top').hide();\n",
    "    $('nav#menubar').hide();\n",
    "    $('.breadcrumb').hide();\n",
    "    $('.hidden-print').hide();\n",
    "  });\n",
    "</script>\n",
    "\n",
    "<footer id=\"attribution\" style=\"float:right; color:#808080; background:#fff;\">\n",
    "Created with Jupyter by Cristian Camilo Zapata Zuluaga.\n",
    "</footer>"
   ]
  },
  {
   "cell_type": "code",
   "execution_count": null,
   "metadata": {},
   "outputs": [],
   "source": []
  }
 ],
 "metadata": {
  "kernelspec": {
   "display_name": "Python 3",
   "language": "python",
   "name": "python3"
  },
  "language_info": {
   "codemirror_mode": {
    "name": "ipython",
    "version": 3
   },
   "file_extension": ".py",
   "mimetype": "text/x-python",
   "name": "python",
   "nbconvert_exporter": "python",
   "pygments_lexer": "ipython3",
   "version": "3.7.3"
  }
 },
 "nbformat": 4,
 "nbformat_minor": 2
}
